{
 "cells": [
  {
   "cell_type": "markdown",
   "source": [
    "# Grid search notebook\n",
    "author: Gonzalo Miranda Cabrera\n",
    "\n",
    "objective: perform a grid search around the hyperparameters found in the randomized search to find an even better combination.\n",
    "\n",
    "summary:\n",
    "1. read the data and slpit into test and train.\n",
    "2. define the pipilines to be trained.\n",
    "3. prepare the grid search with the hyperparameters found in the randomized search.\n",
    "4. train the pipelines.\n",
    "5. show best scores in training data.\n",
    "6. save results to file in grid_search_results folder.\n",
    "7. save models."
   ],
   "metadata": {}
  },
  {
   "cell_type": "code",
   "execution_count": 1,
   "source": [
    "import pandas as pd\n",
    "from sklearn.svm import SVR\n",
    "from xgboost import XGBRegressor\n",
    "from sklearn.pipeline import Pipeline\n",
    "from sklearn.decomposition import PCA\n",
    "from sklearn.metrics import mean_absolute_error, mean_squared_error\n",
    "from sklearn.preprocessing import StandardScaler\n",
    "from sklearn.ensemble import RandomForestRegressor\n",
    "from sklearn.model_selection import train_test_split, GridSearchCV\n",
    "\n",
    "from joblib import load, dump\n",
    "import sys\n"
   ],
   "outputs": [],
   "metadata": {}
  },
  {
   "cell_type": "markdown",
   "source": [
    "## Split into train and test sets"
   ],
   "metadata": {}
  },
  {
   "cell_type": "code",
   "execution_count": 2,
   "source": [
    "data = pd.read_csv(\"data.csv\", index_col=\"order_id\")\n",
    "\n",
    "y = data.pop(\"total_minutes\").to_numpy()\n",
    "X = data.to_numpy()\n",
    "\n",
    "x_train, x_test, y_train, y_test = train_test_split(X, y, test_size=0.5, random_state=0)\n",
    "x_train.shape, x_test.shape, y_train.shape, y_test.shape\n"
   ],
   "outputs": [
    {
     "output_type": "execute_result",
     "data": {
      "text/plain": [
       "((3911, 37), (3912, 37), (3911,), (3912,))"
      ]
     },
     "metadata": {},
     "execution_count": 2
    }
   ],
   "metadata": {}
  },
  {
   "cell_type": "markdown",
   "source": [
    "## Define pipelines"
   ],
   "metadata": {}
  },
  {
   "cell_type": "markdown",
   "source": [
    "### Pipeline composition\n",
    "1. Standard scaler -> standardizes the data with mean and std\n",
    "2. PCA -> Principal component analysis (change of basis on the input data)\n",
    "3. ML Model"
   ],
   "metadata": {}
  },
  {
   "cell_type": "code",
   "execution_count": 3,
   "source": [
    "svm_pipeline = Pipeline([(\"scaler\", StandardScaler()), (\"pca\", PCA()), (\"svm\", SVR())])\n",
    "rfr_pipeline = Pipeline(\n",
    "    [(\"scaler\", StandardScaler()), (\"pca\", PCA()), (\"rfr\", RandomForestRegressor())]\n",
    ")\n",
    "xgb_pipeline = Pipeline(\n",
    "    [(\"scaler\", StandardScaler()), (\"pca\", PCA()), (\"xgb\", XGBRegressor())]\n",
    ")\n"
   ],
   "outputs": [],
   "metadata": {}
  },
  {
   "cell_type": "markdown",
   "source": [
    "## Grid search"
   ],
   "metadata": {}
  },
  {
   "cell_type": "markdown",
   "source": [
    "### SVM"
   ],
   "metadata": {}
  },
  {
   "cell_type": "code",
   "execution_count": 4,
   "source": [
    "svm_random_search = load(\"rand_search_results/svm_random_search\")\n",
    "rfr_random_search = load(\"rand_search_results/rfr_random_search\")\n",
    "xgb_random_search = load(\"rand_search_results/xgb_random_search\")\n"
   ],
   "outputs": [],
   "metadata": {}
  },
  {
   "cell_type": "code",
   "execution_count": 5,
   "source": [
    "svm_random_search.best_params_"
   ],
   "outputs": [
    {
     "output_type": "execute_result",
     "data": {
      "text/plain": [
       "{'svm__shrinking': False,\n",
       " 'svm__kernel': 'linear',\n",
       " 'svm__gamma': 'auto',\n",
       " 'svm__epsilon': 0.2,\n",
       " 'svm__C': 17,\n",
       " 'pca__n_components': 37}"
      ]
     },
     "metadata": {},
     "execution_count": 5
    }
   ],
   "metadata": {}
  },
  {
   "cell_type": "code",
   "execution_count": 6,
   "source": [
    "svm_params = {\n",
    "    \"pca__n_components\": [36, 37],\n",
    "    \"svm__C\": [16, 17, 18],\n",
    "    \"svm__epsilon\": [0.15, 0.2, 0.25],\n",
    "    \"svm__gamma\": [\"scale\", \"auto\"],\n",
    "    \"svm__kernel\": [\"linear\", \"sigmoid\", \"rbf\"],\n",
    "    \"svm__shrinking\": [True, False],\n",
    "}\n",
    "\n",
    "svm_grid_search = GridSearchCV(\n",
    "    estimator=svm_pipeline,\n",
    "    param_grid=svm_params,\n",
    "    scoring=\"neg_mean_absolute_error\",\n",
    "    refit=\"neg_mean_absolute_error\",\n",
    "    cv=3,\n",
    "    n_jobs=-1,\n",
    "    verbose=1,\n",
    ")\n"
   ],
   "outputs": [],
   "metadata": {}
  },
  {
   "cell_type": "markdown",
   "source": [
    "### Random forest regressor"
   ],
   "metadata": {}
  },
  {
   "cell_type": "code",
   "execution_count": 7,
   "source": [
    "rfr_random_search.best_params_"
   ],
   "outputs": [
    {
     "output_type": "execute_result",
     "data": {
      "text/plain": [
       "{'rfr__n_estimators': 1000,\n",
       " 'rfr__min_samples_split': 7,\n",
       " 'rfr__min_samples_leaf': 9,\n",
       " 'rfr__max_features': 'auto',\n",
       " 'rfr__max_depth': 10,\n",
       " 'rfr__bootstrap': True,\n",
       " 'pca__n_components': 30}"
      ]
     },
     "metadata": {},
     "execution_count": 7
    }
   ],
   "metadata": {}
  },
  {
   "cell_type": "code",
   "execution_count": 8,
   "source": [
    "rfr_params = {\n",
    "    \"pca__n_components\": [29, 30, 31],\n",
    "    \"rfr__n_estimators\": [975, 1000, 1025],\n",
    "    \"rfr__max_features\": [\"auto\", \"sqrt\", \"log2\"],\n",
    "    \"rfr__max_depth\": [5, 7, 9, 10],\n",
    "    \"rfr__min_samples_split\": [6, 7, 8],\n",
    "    \"rfr__min_samples_leaf\": [9, 10, 11],\n",
    "    \"rfr__bootstrap\": [True, False],\n",
    "}\n",
    "rfr_grid_search = GridSearchCV(\n",
    "    estimator=rfr_pipeline,\n",
    "    param_grid=rfr_params,\n",
    "    scoring=\"neg_mean_absolute_error\",\n",
    "    refit=\"neg_mean_absolute_error\",\n",
    "    cv=3,\n",
    "    n_jobs=-1,\n",
    "    verbose=1,\n",
    ")\n"
   ],
   "outputs": [],
   "metadata": {}
  },
  {
   "cell_type": "markdown",
   "source": [
    "### XGB Regressor"
   ],
   "metadata": {}
  },
  {
   "cell_type": "code",
   "execution_count": 9,
   "source": [
    "xgb_random_search.best_params_"
   ],
   "outputs": [
    {
     "output_type": "execute_result",
     "data": {
      "text/plain": [
       "{'xgb__subsample': 0.3,\n",
       " 'xgb__objective': 'reg:squarederror',\n",
       " 'xgb__n_jobs': 2,\n",
       " 'xgb__n_estimators': 600,\n",
       " 'xgb__min_child_weight': 9,\n",
       " 'xgb__max_depth': 6,\n",
       " 'xgb__learning_rate': 0.005,\n",
       " 'xgb__colsample_bytree': 0.8,\n",
       " 'pca__n_components': 25}"
      ]
     },
     "metadata": {},
     "execution_count": 9
    }
   ],
   "metadata": {}
  },
  {
   "cell_type": "code",
   "execution_count": 10,
   "source": [
    "xgb_params = {\n",
    "    \"pca__n_components\": [24, 25, 26],\n",
    "    \"xgb__objective\": [\"reg:squarederror\", \"reg:squaredlogerror\"],\n",
    "    \"xgb__learning_rate\": [0.0025, 0.005, 0.0075],\n",
    "    \"xgb__max_depth\": [5, 6, 7],\n",
    "    \"xgb__min_child_weight\": [8, 9, 10],\n",
    "    \"xgb__subsample\": [0.25, 0.3, 0.35],\n",
    "    \"xgb__colsample_bytree\": [0.75, 0.8, 0.85],\n",
    "    \"xgb__n_estimators\": [575, 600, 625],\n",
    "    \"xgb__n_jobs\": [2],\n",
    "}\n",
    "xgb_grid_search = GridSearchCV(\n",
    "    estimator=xgb_pipeline,\n",
    "    param_grid=xgb_params,\n",
    "    scoring=\"neg_mean_absolute_error\",\n",
    "    refit=\"neg_mean_absolute_error\",\n",
    "    cv=3,\n",
    "    n_jobs=6,\n",
    "    verbose=1,\n",
    ")\n"
   ],
   "outputs": [],
   "metadata": {}
  },
  {
   "cell_type": "markdown",
   "source": [
    "### Training"
   ],
   "metadata": {}
  },
  {
   "cell_type": "code",
   "execution_count": 11,
   "source": [
    "print(\"svm started grid search\")\n",
    "svm_grid_search.fit(x_train, y_train)\n",
    "print(\"random forest started grid search\")\n",
    "rfr_grid_search.fit(x_train, y_train)\n",
    "print(\"xgb regressor started grid search\")\n",
    "xgb_grid_search.fit(x_train, y_train)\n"
   ],
   "outputs": [
    {
     "output_type": "stream",
     "name": "stdout",
     "text": [
      "svm started grid search\n",
      "Fitting 3 folds for each of 216 candidates, totalling 648 fits\n",
      "random forest started grid search\n",
      "Fitting 3 folds for each of 1944 candidates, totalling 5832 fits\n",
      "xgb regressor started grid search\n",
      "Fitting 3 folds for each of 4374 candidates, totalling 13122 fits\n"
     ]
    },
    {
     "output_type": "execute_result",
     "data": {
      "text/plain": [
       "GridSearchCV(cv=3,\n",
       "             estimator=Pipeline(steps=[('scaler', StandardScaler()),\n",
       "                                       ('pca', PCA()),\n",
       "                                       ('xgb',\n",
       "                                        XGBRegressor(base_score=None,\n",
       "                                                     booster=None,\n",
       "                                                     colsample_bylevel=None,\n",
       "                                                     colsample_bynode=None,\n",
       "                                                     colsample_bytree=None,\n",
       "                                                     gamma=None, gpu_id=None,\n",
       "                                                     importance_type='gain',\n",
       "                                                     interaction_constraints=None,\n",
       "                                                     learning_rate=None,\n",
       "                                                     max_delta_step=None,\n",
       "                                                     max_depth=None,\n",
       "                                                     min_child_weight=No...\n",
       "                         'xgb__colsample_bytree': [0.75, 0.8, 0.85],\n",
       "                         'xgb__learning_rate': [0.0025, 0.005, 0.0075],\n",
       "                         'xgb__max_depth': [5, 6, 7],\n",
       "                         'xgb__min_child_weight': [8, 9, 10],\n",
       "                         'xgb__n_estimators': [575, 600, 625],\n",
       "                         'xgb__n_jobs': [2],\n",
       "                         'xgb__objective': ['reg:squarederror',\n",
       "                                            'reg:squaredlogerror'],\n",
       "                         'xgb__subsample': [0.25, 0.3, 0.35]},\n",
       "             refit='neg_mean_absolute_error', scoring='neg_mean_absolute_error',\n",
       "             verbose=1)"
      ]
     },
     "metadata": {},
     "execution_count": 11
    }
   ],
   "metadata": {}
  },
  {
   "cell_type": "code",
   "execution_count": 12,
   "source": [
    "# Best scores on training data\n",
    "print(f\"svm: {svm_grid_search.best_score_:.3f}\")\n",
    "print(f\"rfr: {rfr_grid_search.best_score_:.3f}\")\n",
    "print(f\"xgb: {xgb_grid_search.best_score_:.3f}\")\n"
   ],
   "outputs": [
    {
     "output_type": "stream",
     "name": "stdout",
     "text": [
      "svm: -18.484\n",
      "rfr: -19.196\n",
      "xgb: -18.649\n"
     ]
    }
   ],
   "metadata": {}
  },
  {
   "cell_type": "markdown",
   "source": [
    "## Results"
   ],
   "metadata": {}
  },
  {
   "cell_type": "code",
   "execution_count": 13,
   "source": [
    "# mae and mse on test data\n",
    "\n",
    "original_stdout = sys.stdout  # Save a reference to the original standard output\n",
    "\n",
    "with open(\"grid_search_results/results.txt\", \"w\") as f:\n",
    "    sys.stdout = f  # Change the standard output to the file we created.\n",
    "\n",
    "    print(\"mae and mse on test data\")\n",
    "    # Mean absolute error\n",
    "    print(\n",
    "        f\"mae svm: {mean_absolute_error(y_true=y_test, y_pred=svm_grid_search.best_estimator_.predict(x_test)):.3f}\"\n",
    "    )\n",
    "    print(\n",
    "        f\"mae rfr: {mean_absolute_error(y_true=y_test, y_pred=rfr_grid_search.best_estimator_.predict(x_test)):.3f}\"\n",
    "    )\n",
    "    print(\n",
    "        f\"mae xgb: {mean_absolute_error(y_true=y_test, y_pred=xgb_grid_search.best_estimator_.predict(x_test)):.3f}\"\n",
    "    )\n",
    "    ensemble_mae = mean_absolute_error(\n",
    "        y_true=y_test,\n",
    "        y_pred=(\n",
    "            (\n",
    "                svm_grid_search.best_estimator_.predict(x_test)\n",
    "                + rfr_grid_search.best_estimator_.predict(x_test)\n",
    "                + xgb_grid_search.best_estimator_.predict(x_test)\n",
    "            )\n",
    "            / 3\n",
    "        ),\n",
    "    )\n",
    "    print(f\"ensemble mae: {ensemble_mae:.3f}\")\n",
    "\n",
    "    # Mean squared error\n",
    "    print(\n",
    "        f\"mse svm: {mean_squared_error(y_true=y_test, y_pred=svm_grid_search.best_estimator_.predict(x_test)):.3f}\"\n",
    "    )\n",
    "    print(\n",
    "        f\"mse rfr: {mean_squared_error(y_true=y_test, y_pred=rfr_grid_search.best_estimator_.predict(x_test)):.3f}\"\n",
    "    )\n",
    "    print(\n",
    "        f\"mse xgb: {mean_squared_error(y_true=y_test, y_pred=xgb_grid_search.best_estimator_.predict(x_test)):.3f}\"\n",
    "    )\n",
    "    ensemble_mse = mean_squared_error(\n",
    "        y_true=y_test,\n",
    "        y_pred=(\n",
    "            (\n",
    "                svm_grid_search.best_estimator_.predict(x_test)\n",
    "                + rfr_grid_search.best_estimator_.predict(x_test)\n",
    "                + xgb_grid_search.best_estimator_.predict(x_test)\n",
    "            )\n",
    "            / 3\n",
    "        ),\n",
    "    )\n",
    "    print(f\"ensemble mse: {ensemble_mse:.3f}\")\n",
    "\n",
    "    sys.stdout = original_stdout  # Reset the standard output to its original value\n"
   ],
   "outputs": [],
   "metadata": {}
  },
  {
   "cell_type": "markdown",
   "source": [
    "## Model saving"
   ],
   "metadata": {}
  },
  {
   "cell_type": "code",
   "execution_count": 14,
   "source": [
    "# Model saving\n",
    "dump(svm_grid_search, \"grid_search_results/svm_grid_search\")\n",
    "dump(svm_grid_search.best_estimator_, \"grid_search_results/svm_best_model\")\n",
    "dump(rfr_grid_search, \"grid_search_results/rfr_grid_search\")\n",
    "dump(rfr_grid_search.best_estimator_, \"grid_search_results/rfr_best_model\")\n",
    "dump(xgb_grid_search, \"grid_search_results/xgb_grid_search\")\n",
    "dump(xgb_grid_search.best_estimator_, \"grid_search_results/xgb_best_model\")\n"
   ],
   "outputs": [
    {
     "output_type": "execute_result",
     "data": {
      "text/plain": [
       "['grid_search_results/xgb_best_model']"
      ]
     },
     "metadata": {},
     "execution_count": 14
    }
   ],
   "metadata": {}
  }
 ],
 "metadata": {
  "orig_nbformat": 4,
  "language_info": {
   "name": "python",
   "version": "3.8.10",
   "mimetype": "text/x-python",
   "codemirror_mode": {
    "name": "ipython",
    "version": 3
   },
   "pygments_lexer": "ipython3",
   "nbconvert_exporter": "python",
   "file_extension": ".py"
  },
  "kernelspec": {
   "name": "python3",
   "display_name": "Python 3.8.10 64-bit ('default': venv)"
  },
  "interpreter": {
   "hash": "612fb3d9ffff20ebf687db91124ed6b2b9e249002eae363a2927c131d0f32fd3"
  }
 },
 "nbformat": 4,
 "nbformat_minor": 2
}